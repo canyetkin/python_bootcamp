{
 "cells": [
  {
   "cell_type": "code",
   "execution_count": 46,
   "metadata": {},
   "outputs": [
    {
     "name": "stdout",
     "output_type": "stream",
     "text": [
      "RANDOM NUMBER IS GENERATING...\n",
      "I HAVE DECIDED, GUESS THE NUMBER!\n",
      "WARM!\n",
      "COLDER!\n",
      "YOUR GUESS IS CORRECT AND YOU HAVE TRIED 3 TİMES \n"
     ]
    }
   ],
   "source": [
    "def guessing_game():\n",
    "    from random import randint\n",
    "    from time import sleep\n",
    "    print(\"RANDOM NUMBER IS GENERATING...\")\n",
    "    sleep(1.5)\n",
    "    print(\"I HAVE DECIDED, GUESS THE NUMBER!\")\n",
    "    sleep(0.5)\n",
    "    num=randint(1,100)\n",
    "    count=0\n",
    "    while True:\n",
    "        answer1=int(input(\"YOUR GUESS.....\"))\n",
    "        if not 1<=answer1<=100:\n",
    "            print(\"OUT OF BOND\")\n",
    "        else:\n",
    "            count +=1\n",
    "            if abs(answer1-num)<=10:\n",
    "                print(\"WARM!\")\n",
    "            else:\n",
    "                print(\"COLD!\")\n",
    "            break\n",
    "    while True:\n",
    "        answer=int(input(\"guess the number.....\"))\n",
    "        count +=1\n",
    "        if answer == num:\n",
    "            print(f\"YOUR GUESS IS CORRECT AND YOU HAVE TRIED {count} TİMES \")\n",
    "            break\n",
    "\n",
    "        if abs(num-answer1) < abs(num-answer):\n",
    "            print(\"COLDER!\")\n",
    "        elif abs(num-answer1) > abs(num-answer):\n",
    "            print(\"WARMER!\")\n",
    "        elif abs(num-answer1) == abs(num-answer):\n",
    "            print(\"Same number or same distance.. Guess again.\")\n",
    "        answer1=answer\n",
    "\n",
    "\n",
    "\n",
    "guessing_game()\n",
    "    \n"
   ]
  }
 ],
 "metadata": {
  "interpreter": {
   "hash": "aee8b7b246df8f9039afb4144a1f6fd8d2ca17a180786b69acc140d282b71a49"
  },
  "kernelspec": {
   "display_name": "Python 3.10.4 64-bit",
   "language": "python",
   "name": "python3"
  },
  "language_info": {
   "codemirror_mode": {
    "name": "ipython",
    "version": 3
   },
   "file_extension": ".py",
   "mimetype": "text/x-python",
   "name": "python",
   "nbconvert_exporter": "python",
   "pygments_lexer": "ipython3",
   "version": "3.10.4"
  },
  "orig_nbformat": 4
 },
 "nbformat": 4,
 "nbformat_minor": 2
}
