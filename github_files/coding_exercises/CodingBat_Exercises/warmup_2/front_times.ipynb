{
 "cells": [
  {
   "cell_type": "markdown",
   "metadata": {},
   "source": [
    "\n",
    "Given a string and a non-negative int n, we'll say that the front of the string is the first 3 chars, or whatever is there if the string is less than length 3. Return n copies of the front;\n",
    "\n",
    "\n",
    "front_times('Chocolate', 2) → 'ChoCho'\n",
    "\n",
    "front_times('Chocolate', 3) → 'ChoChoCho'\n",
    "\n",
    "front_times('Abc', 3) → 'AbcAbcAbc"
   ]
  },
  {
   "cell_type": "code",
   "execution_count": null,
   "metadata": {},
   "outputs": [],
   "source": [
    "def front_times(str, n):\n",
    "  if len(str)>=3:\n",
    "    front=str[:3]\n",
    "    return front*n\n",
    "  else:\n",
    "    return str*n"
   ]
  }
 ],
 "metadata": {
  "interpreter": {
   "hash": "40d3a090f54c6569ab1632332b64b2c03c39dcf918b08424e98f38b5ae0af88f"
  },
  "kernelspec": {
   "display_name": "Python 3.9.7 ('base')",
   "language": "python",
   "name": "python3"
  },
  "language_info": {
   "name": "python",
   "version": "3.9.7"
  },
  "orig_nbformat": 4
 },
 "nbformat": 4,
 "nbformat_minor": 2
}
