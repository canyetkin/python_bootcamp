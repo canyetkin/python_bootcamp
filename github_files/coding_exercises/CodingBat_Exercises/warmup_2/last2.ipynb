{
 "cells": [
  {
   "cell_type": "markdown",
   "metadata": {},
   "source": [
    "Given a string, return the count of the number of times that a substring length 2 appears in the string and also as the last 2 chars of the string, so \"hixxxhi\" yields 1 (we won't count the end substring).\n",
    "\n",
    "\n",
    "last2('hixxhi') → 1\n",
    "\n",
    "last2('xaxxaxaxx') → 1\n",
    "\n",
    "last2('axxxaaxx') → 2"
   ]
  },
  {
   "cell_type": "code",
   "execution_count": null,
   "metadata": {},
   "outputs": [],
   "source": [
    "def last2(str):\n",
    "  if len(str)<2:\n",
    "    return 0\n",
    "    \n",
    "  count= 0\n",
    "  last2l= str[-2:]\n",
    "  for i in range(len(str)-2):\n",
    "    sub=str[i:i+2]\n",
    "    if sub==last2l:\n",
    "      count += 1\n",
    "  \n",
    "  return(count)"
   ]
  }
 ],
 "metadata": {
  "interpreter": {
   "hash": "aee8b7b246df8f9039afb4144a1f6fd8d2ca17a180786b69acc140d282b71a49"
  },
  "kernelspec": {
   "display_name": "Python 3.10.4 64-bit",
   "language": "python",
   "name": "python3"
  },
  "language_info": {
   "name": "python",
   "version": "3.10.4"
  },
  "orig_nbformat": 4
 },
 "nbformat": 4,
 "nbformat_minor": 2
}
