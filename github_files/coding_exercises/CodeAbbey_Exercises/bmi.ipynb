{
 "cells": [
  {
   "cell_type": "markdown",
   "metadata": {},
   "source": [
    "http://www.codeabbey.com/index/task_view/body-mass-index\n",
    "\n",
    "Solutuion of body mass index task.\n",
    "\n",
    "input data:\n",
    "3\n",
    "80 1.73\n",
    "55 1.58\n",
    "49 1.91\n",
    "\n",
    "answer:\n",
    "over normal under"
   ]
  },
  {
   "cell_type": "code",
   "execution_count": 19,
   "metadata": {},
   "outputs": [
    {
     "name": "stdout",
     "output_type": "stream",
     "text": [
      "normal\n",
      "under\n",
      "obese\n",
      "obese\n",
      "under\n",
      "under\n",
      "normal\n",
      "obese\n",
      "over\n",
      "normal\n",
      "under\n",
      "obese\n",
      "under\n",
      "normal\n",
      "obese\n",
      "normal\n",
      "normal\n",
      "obese\n",
      "under\n",
      "over\n",
      "normal\n",
      "over\n",
      "normal\n",
      "under\n",
      "over\n",
      "normal\n",
      "obese\n",
      "normal\n",
      "normal\n"
     ]
    }
   ],
   "source": [
    "def body_mass_index():\n",
    "    data=input(\"please enter data:\")\n",
    "    data_list=list(data.split())\n",
    "    num_of_people=data_list.pop(0)\n",
    "    sublist= list(zip(data_list[::2], data_list[1::2]))\n",
    "    answer_list=[]\n",
    "    for kg,meter in sublist:\n",
    "        weigh=float(kg)\n",
    "        height=float(meter)\n",
    "        bmi= weigh/height**2 \n",
    "        if bmi<18.5:\n",
    "            answer_list.append(\"under\")\n",
    "        elif 18.5<=bmi<25.0:\n",
    "            answer_list.append(\"normal\")\n",
    "        elif 25.0<=bmi<30.0:\n",
    "            answer_list.append(\"over\")\n",
    "        elif 30<=bmi:\n",
    "            answer_list.append(\"obese\")\n",
    "    for a in answer_list:\n",
    "        print(a)\n",
    "\n",
    "    \n",
    "         \n",
    "    #print(f\"there are {num_of_people} person\")\n",
    "    #print(sublist)\n",
    "    #print(answer_list)\n",
    "\n",
    "    \n",
    "    \n",
    "\n",
    "\n",
    "body_mass_index()"
   ]
  }
 ],
 "metadata": {
  "interpreter": {
   "hash": "aee8b7b246df8f9039afb4144a1f6fd8d2ca17a180786b69acc140d282b71a49"
  },
  "kernelspec": {
   "display_name": "Python 3.10.4 64-bit",
   "language": "python",
   "name": "python3"
  },
  "language_info": {
   "codemirror_mode": {
    "name": "ipython",
    "version": 3
   },
   "file_extension": ".py",
   "mimetype": "text/x-python",
   "name": "python",
   "nbconvert_exporter": "python",
   "pygments_lexer": "ipython3",
   "version": "3.10.4"
  },
  "orig_nbformat": 4
 },
 "nbformat": 4,
 "nbformat_minor": 2
}
